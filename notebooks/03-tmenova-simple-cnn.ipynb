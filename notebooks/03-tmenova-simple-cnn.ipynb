{
 "cells": [
  {
   "cell_type": "code",
   "execution_count": 1,
   "metadata": {},
   "outputs": [],
   "source": [
    "import numpy as np\n",
    "from PIL import Image\n",
    "from torch.utils.data import Dataset\n",
    "import os\n",
    "import random\n",
    "import torch\n",
    "import torchvision.transforms as transforms\n",
    "import torchvision\n",
    "import  matplotlib.pyplot as plt"
   ]
  },
  {
   "cell_type": "code",
   "execution_count": 13,
   "metadata": {},
   "outputs": [
    {
     "name": "stdout",
     "output_type": "stream",
     "text": [
      "22-02-2024\n"
     ]
    }
   ],
   "source": [
    "from datetime import datetime\n",
    "\n",
    "print(datetime.now().strftime(\"%d-%m-%Y\"))"
   ]
  },
  {
   "cell_type": "markdown",
   "metadata": {},
   "source": [
    "## Data"
   ]
  },
  {
   "cell_type": "code",
   "execution_count": 2,
   "metadata": {},
   "outputs": [],
   "source": [
    "DATA_ROOT = \"../data/raw\"\n",
    "test_root = os.path.join(DATA_ROOT, \"Test\")\n",
    "train_root = os.path.join(DATA_ROOT, \"Train\")"
   ]
  },
  {
   "cell_type": "code",
   "execution_count": 3,
   "metadata": {},
   "outputs": [],
   "source": [
    "class ImageClassificationDataset(Dataset):\n",
    "    def __init__(self, root, transform=None):\n",
    "        self.root = root\n",
    "        self.transform = transform # TODO \n",
    "        self.image_paths = os.listdir(root)\n",
    "        self.classes = [p.split(\"_\")[1].split(\".\")[0] for p in self.image_paths]\n",
    "        self.classes_unique = set(self.classes)\n",
    "        self.ind_to_class = {ind:cl for ind,cl in enumerate(self.classes_unique)}\n",
    "        self.class_to_ind = {value:key for key, value in self.ind_to_class.items()}\n",
    "    \n",
    "    def __len__(self):\n",
    "        return len(self.image_paths)\n",
    "    \n",
    "    def __getitem__(self, index):\n",
    "        image_path = self.image_paths[index]\n",
    "        full_image_path = os.path.join(self.root, image_path)\n",
    "        label_name = image_path.split(\"_\")[1].split(\".\")[0] # OR: label = self.classes[index]\n",
    "        label = self.class_to_ind[label_name]\n",
    "        img = Image.open(full_image_path).convert(mode = \"RGB\") #OR: .convert(mode = \"L\") because greyscale (but then transform need to match)\n",
    "        if self.transform is not None:\n",
    "            img = self.transform(img)\n",
    "        return img, label"
   ]
  },
  {
   "cell_type": "code",
   "execution_count": 4,
   "metadata": {},
   "outputs": [],
   "source": [
    "transform = transforms.Compose(\n",
    "    [\n",
    "        transforms.ToTensor(),\n",
    "        transforms.Normalize((0.5, 0.5, 0.5), (0.5, 0.5, 0.5))\n",
    "    ]\n",
    ")\n",
    "# transform = None"
   ]
  },
  {
   "cell_type": "code",
   "execution_count": 5,
   "metadata": {},
   "outputs": [],
   "source": [
    "full_train_dataset = ImageClassificationDataset(train_root, transform=transform)\n",
    "test_dataset = ImageClassificationDataset(test_root, transform=transform)"
   ]
  },
  {
   "cell_type": "code",
   "execution_count": 6,
   "metadata": {},
   "outputs": [],
   "source": [
    "# Dataloaders\n",
    "BATCH_SIZE = 32\n",
    "train_loader = torch.utils.data.DataLoader(full_train_dataset, batch_size = BATCH_SIZE, shuffle = True)\n",
    "# val_loader = torch.utils.data.DataLoader(val_dataset, batch_size = BATCH_SIZE, shuffle = True)\n",
    "# test_loader = torch.utils.data.DataLoader(test_dataset, batch_size = BATCH_SIZE, shuffle = True)"
   ]
  },
  {
   "cell_type": "markdown",
   "metadata": {},
   "source": [
    "## Model"
   ]
  },
  {
   "cell_type": "code",
   "execution_count": 7,
   "metadata": {},
   "outputs": [],
   "source": [
    "import torch.nn as nn \n",
    "import torch.nn.functional as F"
   ]
  },
  {
   "cell_type": "code",
   "execution_count": 8,
   "metadata": {},
   "outputs": [],
   "source": [
    "class SimpleCNN(nn.Module):\n",
    "    def __init__(self):\n",
    "        super().__init__()\n",
    "        self.conv1 = nn.Conv2d(3, 6, 5)\n",
    "        self.pool = nn.MaxPool2d(2, 2)\n",
    "        self.conv2 = nn.Conv2d(6, 16, 5)\n",
    "        self.fc1 = nn.Linear(16 * 61 * 61, 120)\n",
    "        self.fc2 = nn.Linear(120, 84)\n",
    "        self.fc3 = nn.Linear(84, 2)\n",
    "\n",
    "    def forward(self, x):\n",
    "        # print(f'input X {x.size()}')\n",
    "        x = self.pool(F.relu(self.conv1(x)))\n",
    "        # print(f'X1 {x.size()}')\n",
    "        x = self.pool(F.relu(self.conv2(x)))\n",
    "        # print(f'X2 {x.size()}')\n",
    "        x = torch.flatten(x, start_dim=1) #all except batch dimension\n",
    "        # print(f'X3 {x.size()}')\n",
    "        x = F.relu(self.fc1(x))\n",
    "        # print(f'X4 {x.size()}')\n",
    "        x = F.relu(self.fc2(x))\n",
    "        # print(f'X5 {x.size()}')\n",
    "        x = self.fc3(x)\n",
    "        # print(f'X6 {x.size()}')\n",
    "        return x\n",
    "    \n",
    "cnn = SimpleCNN()"
   ]
  },
  {
   "cell_type": "code",
   "execution_count": 9,
   "metadata": {},
   "outputs": [],
   "source": [
    "import torch.optim as optim\n",
    "\n",
    "criterion = nn.CrossEntropyLoss()\n",
    "optimizer = optim.SGD(cnn.parameters(), lr = 0.001, momentum=0.9)"
   ]
  },
  {
   "cell_type": "code",
   "execution_count": 10,
   "metadata": {},
   "outputs": [
    {
     "name": "stdout",
     "output_type": "stream",
     "text": [
      "Epoch 0\n",
      "[0,     4] loss: 0.692\n",
      "Epoch 1\n",
      "[1,     4] loss: 0.687\n",
      "Epoch 2\n",
      "[2,     4] loss: 0.680\n",
      "Epoch 3\n",
      "[3,     4] loss: 0.673\n",
      "Epoch 4\n",
      "[4,     4] loss: 0.664\n",
      "Epoch 5\n",
      "[5,     4] loss: 0.653\n",
      "Epoch 6\n",
      "[6,     4] loss: 0.640\n",
      "Epoch 7\n",
      "[7,     4] loss: 0.617\n",
      "Epoch 8\n",
      "[8,     4] loss: 0.588\n",
      "Epoch 9\n",
      "[9,     4] loss: 0.555\n",
      "Epoch 10\n",
      "[10,     4] loss: 0.526\n",
      "Epoch 11\n",
      "[11,     4] loss: 0.471\n",
      "Epoch 12\n",
      "[12,     4] loss: 0.424\n",
      "Epoch 13\n",
      "[13,     4] loss: 0.386\n",
      "Epoch 14\n",
      "[14,     4] loss: 0.332\n",
      "Epoch 15\n",
      "[15,     4] loss: 0.287\n",
      "Epoch 16\n",
      "[16,     4] loss: 0.246\n",
      "Epoch 17\n",
      "[17,     4] loss: 0.234\n",
      "Epoch 18\n",
      "[18,     4] loss: 0.222\n",
      "Epoch 19\n",
      "[19,     4] loss: 0.193\n",
      "Training finished!\n"
     ]
    }
   ],
   "source": [
    "EPOCHS = 20\n",
    "\n",
    "for epoch in range(EPOCHS):\n",
    "    print(f\"Epoch {epoch}\")\n",
    "\n",
    "    running_loss = 0.0\n",
    "    for i, data in enumerate(train_loader):\n",
    "        images, labels = data\n",
    "\n",
    "        # let's zero the gradient\n",
    "        optimizer.zero_grad()\n",
    "\n",
    "        # forward and backward pass\n",
    "        outputs = cnn(images)\n",
    "        loss = criterion(outputs, labels)\n",
    "        loss.backward()\n",
    "        optimizer.step()\n",
    "\n",
    "        running_loss += loss.item()\n",
    "        if i % 5 == 4: \n",
    "            print(f'[{epoch}, {i:5d}] loss: {running_loss / 5:.3f}')\n",
    "            running_loss = 0.0\n",
    "\n",
    "print(\"Training finished!\")"
   ]
  },
  {
   "cell_type": "code",
   "execution_count": 15,
   "metadata": {},
   "outputs": [],
   "source": [
    "# Save the model\n",
    "model_path = f\"../models/model1_simple_cnn_v1_bs{BATCH_SIZE}_e{EPOCHS}_23Feb.pth\"\n",
    "torch.save(cnn.state_dict(), model_path)"
   ]
  },
  {
   "cell_type": "markdown",
   "metadata": {},
   "source": [
    "## TEST"
   ]
  },
  {
   "cell_type": "code",
   "execution_count": 11,
   "metadata": {},
   "outputs": [],
   "source": [
    "def imshow(img):\n",
    "    print(type(img))\n",
    "    img = img / 2 + 0.5 #if denormalization is needed\n",
    "    npimg = np.array(img)\n",
    "    plt.imshow(np.transpose(npimg, (1,2,0)))\n",
    "    plt.show()"
   ]
  },
  {
   "cell_type": "code",
   "execution_count": 12,
   "metadata": {},
   "outputs": [
    {
     "data": {
      "text/plain": [
       "{0: 'Lateral', 1: 'AP'}"
      ]
     },
     "execution_count": 12,
     "metadata": {},
     "output_type": "execute_result"
    }
   ],
   "source": [
    "ind_to_class = full_train_dataset.ind_to_class\n",
    "ind_to_class"
   ]
  },
  {
   "cell_type": "code",
   "execution_count": 13,
   "metadata": {},
   "outputs": [
    {
     "name": "stdout",
     "output_type": "stream",
     "text": [
      "8\n",
      "<class 'torch.Tensor'>\n"
     ]
    },
    {
     "data": {
      "image/png": "[encoded data removed]",
      "text/plain": [
       "<Figure size 640x480 with 1 Axes>"
      ]
     },
     "metadata": {},
     "output_type": "display_data"
    },
    {
     "name": "stdout",
     "output_type": "stream",
     "text": [
      "Ground Truth:  AP AP Lateral Lateral Lateral Lateral Lateral Lateral\n"
     ]
    }
   ],
   "source": [
    "TEST_BATCH_SIZE = 8\n",
    "test_loader = torch.utils.data.DataLoader(test_dataset, batch_size = TEST_BATCH_SIZE, shuffle = True)\n",
    "dataiter = iter(test_loader)\n",
    "images, labels = next(dataiter)\n",
    "labels = labels.tolist()\n",
    "print(len(labels))\n",
    "\n",
    "imshow(torchvision.utils.make_grid(images))\n",
    "print(\"Ground Truth: \", \" \".join(f'{ind_to_class[labels[j]]}' for j in range(TEST_BATCH_SIZE)))"
   ]
  },
  {
   "cell_type": "code",
   "execution_count": 16,
   "metadata": {},
   "outputs": [
    {
     "data": {
      "text/plain": [
       "<All keys matched successfully>"
      ]
     },
     "execution_count": 16,
     "metadata": {},
     "output_type": "execute_result"
    }
   ],
   "source": [
    "cnn = SimpleCNN()\n",
    "cnn.load_state_dict(torch.load(model_path))"
   ]
  },
  {
   "cell_type": "code",
   "execution_count": 17,
   "metadata": {},
   "outputs": [],
   "source": [
    "outputs = cnn(images)"
   ]
  },
  {
   "cell_type": "code",
   "execution_count": 18,
   "metadata": {},
   "outputs": [],
   "source": [
    "_, predicted = torch.max(outputs, 1)\n",
    "predicted = predicted.tolist()"
   ]
  },
  {
   "cell_type": "code",
   "execution_count": 19,
   "metadata": {},
   "outputs": [
    {
     "name": "stdout",
     "output_type": "stream",
     "text": [
      "Predictions:  AP AP AP AP AP AP AP AP\n"
     ]
    }
   ],
   "source": [
    "print(\"Predictions: \", \" \".join(f'{ind_to_class[predicted[j]]}' for j in range(TEST_BATCH_SIZE)))"
   ]
  },
  {
   "cell_type": "markdown",
   "metadata": {},
   "source": [
    "## Pipeline"
   ]
  },
  {
   "cell_type": "code",
   "execution_count": 20,
   "metadata": {},
   "outputs": [
    {
     "name": "stderr",
     "output_type": "stream",
     "text": [
      "Failed to detect the name of this notebook, you can set it manually with the WANDB_NOTEBOOK_NAME environment variable to enable code saving.\n",
      "\u001b[34m\u001b[1mwandb\u001b[0m: Currently logged in as: \u001b[33malexaatm\u001b[0m. Use \u001b[1m`wandb login --relogin`\u001b[0m to force relogin\n"
     ]
    },
    {
     "data": {
      "text/plain": [
       "True"
      ]
     },
     "execution_count": 20,
     "metadata": {},
     "output_type": "execute_result"
    }
   ],
   "source": [
    "# for logging\n",
    "import wandb\n",
    "wandb.login()"
   ]
  },
  {
   "cell_type": "code",
   "execution_count": 21,
   "metadata": {},
   "outputs": [
    {
     "name": "stdout",
     "output_type": "stream",
     "text": [
      "{'lr': 0.001, 'epochs': 10, 'batch_size': 8, 'data_root': 'data/raw', 'name': 'model1', 'data_augm': False}\n"
     ]
    }
   ],
   "source": [
    "# for configs\n",
    "import yaml\n",
    "\n",
    "CONFIG_PATH = \"../configs/model1.yaml\"\n",
    "with open(CONFIG_PATH, 'r') as file:\n",
    "    hyperparam = yaml.safe_load(file)\n",
    "\n",
    "print(hyperparam)"
   ]
  },
  {
   "cell_type": "code",
   "execution_count": 27,
   "metadata": {},
   "outputs": [],
   "source": [
    "from sklearn.model_selection import train_test_split\n",
    "from torch.utils.data import Subset\n",
    "import torch.optim as optim\n",
    "import torchvision.transforms as transforms\n",
    "\n",
    "def make(cfg):\n",
    "    # 1 - prepare data\n",
    "    test_root = os.path.join(\"..\",cfg.data_root, \"Test\")\n",
    "    train_root = os.path.join(\"..\", cfg.data_root, \"Train\")\n",
    "\n",
    "    transform = transforms.Compose(\n",
    "    [\n",
    "        transforms.ToTensor(),\n",
    "        transforms.Normalize((0.5, 0.5, 0.5), (0.5, 0.5, 0.5))\n",
    "    ]\n",
    "    )\n",
    "\n",
    "    full_train_dataset = ImageClassificationDataset(train_root, transform=transform)\n",
    "    test_dataset = ImageClassificationDataset(test_root, transform=transform)\n",
    "\n",
    "    # split train into train and val\n",
    "    train_ind, val_ind = train_test_split(\n",
    "        range(len(full_train_dataset)), \n",
    "        stratify=full_train_dataset.classes,\n",
    "        test_size=0.2,\n",
    "        random_state=1)\n",
    "\n",
    "    train_dataset = Subset(full_train_dataset, train_ind)\n",
    "    val_dataset = Subset(full_train_dataset, val_ind)\n",
    "\n",
    "    # loaders\n",
    "    train_loader = torch.utils.data.DataLoader(train_dataset, batch_size = cfg.batch_size, shuffle = True)\n",
    "    val_loader = torch.utils.data.DataLoader(val_dataset, batch_size = cfg.batch_size, shuffle = True)\n",
    "    test_loader = torch.utils.data.DataLoader(test_dataset, batch_size = cfg.batch_size, shuffle = True)\n",
    "\n",
    "    # 2 - prepare model\n",
    "    model = SimpleCNN()\n",
    "\n",
    "\n",
    "    # 3 - prepare loss and optimizer\n",
    "    criterion = nn.CrossEntropyLoss()\n",
    "    optimizer = optim.SGD(model.parameters(), lr = cfg.lr, momentum=0.9)\n",
    "\n",
    "    return model, train_loader, val_loader, test_loader, criterion, optimizer"
   ]
  },
  {
   "cell_type": "code",
   "execution_count": 28,
   "metadata": {},
   "outputs": [],
   "source": [
    "from tqdm import tqdm\n",
    "\n",
    "def validate(model, val_loader, criterion):\n",
    "    # print(\"Starting validation...\")\n",
    "    with torch.no_grad():\n",
    "        # for data in tqdm(val_loader):\n",
    "        for data in val_loader:\n",
    "            images, labels = data\n",
    "\n",
    "            # only forward step\n",
    "            outputs = model(images)\n",
    "            loss = criterion(outputs, labels)\n",
    "\n",
    "    return loss\n",
    "\n",
    "def train(model, train_loader, val_loader, criterion, optimizer, cfg):\n",
    "    print(\"Starting training...\")\n",
    "    print(\"cfg=\", cfg, \"type=\", type(cfg))\n",
    "    wandb.watch(model, criterion, log=\"all\", log_freq=10)\n",
    "\n",
    "    print(\"cfg.epochs=\", cfg.epochs)\n",
    "\n",
    "    for epoch in tqdm(range(cfg.epochs)):\n",
    "        # print(f\"Epoch {epoch} / {cfg.epochs}\")\n",
    "        model.train()\n",
    "        for i, data in enumerate(train_loader):\n",
    "            images, labels = data\n",
    "\n",
    "            # zero the gradient\n",
    "            optimizer.zero_grad()\n",
    "\n",
    "            # forward and backward pass\n",
    "            outputs = model(images)\n",
    "            loss = criterion(outputs, labels)\n",
    "            loss.backward()\n",
    "            optimizer.step()\n",
    "\n",
    "            # log\n",
    "            wandb.log({\"epoch\": epoch, \"train_loss\": loss.item()}) #, \"train_step\": i\n",
    "\n",
    "        \n",
    "        # validate\n",
    "        model.eval()\n",
    "        val_loss = validate(model, val_loader, criterion)\n",
    "        \n",
    "        # log\n",
    "        wandb.log({\"epoch\": epoch, \"val_loss\": val_loss.item()})\n",
    "\n",
    "    print(\"Training finished!\")\n",
    "\n",
    "    # Save the model\n",
    "    print(\"Saving a model!\")\n",
    "    model_path = f\"../models/model1_simple_cnn_v1_bs{cfg.batch_size}_e{cfg.epochs}.pth\"\n",
    "    torch.save(cnn.state_dict(), model_path)"
   ]
  },
  {
   "cell_type": "code",
   "execution_count": 24,
   "metadata": {},
   "outputs": [],
   "source": [
    "from torchmetrics.classification import BinaryAccuracy, Accuracy, BinaryF1Score, F1Score, BinaryAUROC, BinaryConfusionMatrix, MulticlassConfusionMatrix\n",
    "from sklearn.metrics import ConfusionMatrixDisplay\n",
    "import io\n",
    "\n",
    "# ref: https://lightning.ai/docs/torchmetrics/stable/classification/f1_score.html\n",
    "# accuracy = Accuracy(task=\"multiclass\", num_classes=2)\n",
    "# to plot values: fig_, ax_ = metric.plot()\n",
    "\n",
    "def test(model, test_loader):\n",
    "    print(\"Starting testing ...\")\n",
    "    model.eval()\n",
    "\n",
    "    acc = BinaryAccuracy()\n",
    "    f1score = BinaryF1Score()\n",
    "    auroc = BinaryAUROC()\n",
    "    conf_matrix = BinaryConfusionMatrix()\n",
    "\n",
    "    with torch.no_grad():\n",
    "\n",
    "        for data in tqdm(test_loader):\n",
    "            images, labels = data\n",
    "\n",
    "            # only forward step\n",
    "            outputs = model(images)\n",
    "            _, preds = torch.max(outputs, 1)\n",
    "\n",
    "            # calculate metrics\n",
    "            acc.update(preds, labels)\n",
    "            f1score.update(preds, labels)\n",
    "            auroc.update(preds, labels)\n",
    "            conf_matrix.update(preds, labels)\n",
    "\n",
    "    total_acc = acc.compute().item()\n",
    "    total_f1score = f1score.compute().item()\n",
    "    total_auroc = auroc.compute().item()\n",
    "    total_conf_matrix = conf_matrix.compute()\n",
    "\n",
    "    stats = {\n",
    "        \"Accuracy\": total_acc, \n",
    "        \"F1Score\": total_f1score, \n",
    "        \"AUROC\":total_auroc, \n",
    "        \"Confusion_Matrix_array\": np.array(total_conf_matrix)\n",
    "    }\n",
    "\n",
    "    wandb.log(stats)\n",
    "\n",
    "    # fig_, ax_ = conf_matrix.plot()\n",
    "\n",
    "\n",
    "    # Plot confusion matrix\n",
    "    # plt.ioff()\n",
    "    # disp = ConfusionMatrixDisplay(confusion_matrix=np.array(total_conf_matrix))\n",
    "    # buf = io.BytesIO()\n",
    "    # plt.savefig(buf, format='png')\n",
    "    # buf.seek(0)\n",
    "\n",
    "    # wandb.log({\"Confusion_Matrix\": wandb.Image(buf)})\n",
    "\n",
    "    return stats\n"
   ]
  },
  {
   "cell_type": "code",
   "execution_count": 25,
   "metadata": {},
   "outputs": [],
   "source": [
    "def model_pipeline(hyperparameters):\n",
    "\n",
    "    with wandb.init(project=\"xray-classifier\", config=hyperparameters):\n",
    "      # access all HPs through wandb.config, so logging matches execution!\n",
    "      config = wandb.config\n",
    "\n",
    "      # make the model, data, and optimization problem\n",
    "      model, train_loader, val_loader, test_loader, criterion, optimizer = make(config)\n",
    "      print(model)\n",
    "\n",
    "      # and use them to train the model\n",
    "      train(model, train_loader, val_loader, criterion, optimizer, config)\n",
    "\n",
    "      # and test its final performance\n",
    "      stats = test(model, test_loader)\n",
    "\n",
    "    wandb.finish()\n",
    "\n",
    "    return model, stats"
   ]
  },
  {
   "cell_type": "code",
   "execution_count": 29,
   "metadata": {},
   "outputs": [
    {
     "data": {
      "text/html": [
       "wandb version 0.16.3 is available!  To upgrade, please run:\n",
       " $ pip install wandb --upgrade"
      ],
      "text/plain": [
       "<IPython.core.display.HTML object>"
      ]
     },
     "metadata": {},
     "output_type": "display_data"
    },
    {
     "data": {
      "text/html": [
       "Tracking run with wandb version 0.13.11"
      ],
      "text/plain": [
       "<IPython.core.display.HTML object>"
      ]
     },
     "metadata": {},
     "output_type": "display_data"
    },
    {
     "data": {
      "text/html": [
       "Run data is saved locally in <code>c:\\Users\\Tmenova\\personal\\projects\\xray_classifier\\notebooks\\wandb\\run-20240223_111437-3m7zov1x</code>"
      ],
      "text/plain": [
       "<IPython.core.display.HTML object>"
      ]
     },
     "metadata": {},
     "output_type": "display_data"
    },
    {
     "data": {
      "text/html": [
       "Syncing run <strong><a href='https://wandb.ai/alexaatm/xray-classifier/runs/3m7zov1x' target=\"_blank\">scintillating-lantern-74</a></strong> to <a href='https://wandb.ai/alexaatm/xray-classifier' target=\"_blank\">Weights & Biases</a> (<a href='https://wandb.me/run' target=\"_blank\">docs</a>)<br/>"
      ],
      "text/plain": [
       "<IPython.core.display.HTML object>"
      ]
     },
     "metadata": {},
     "output_type": "display_data"
    },
    {
     "data": {
      "text/html": [
       " View project at <a href='https://wandb.ai/alexaatm/xray-classifier' target=\"_blank\">https://wandb.ai/alexaatm/xray-classifier</a>"
      ],
      "text/plain": [
       "<IPython.core.display.HTML object>"
      ]
     },
     "metadata": {},
     "output_type": "display_data"
    },
    {
     "data": {
      "text/html": [
       " View run at <a href='https://wandb.ai/alexaatm/xray-classifier/runs/3m7zov1x' target=\"_blank\">https://wandb.ai/alexaatm/xray-classifier/runs/3m7zov1x</a>"
      ],
      "text/plain": [
       "<IPython.core.display.HTML object>"
      ]
     },
     "metadata": {},
     "output_type": "display_data"
    },
    {
     "name": "stdout",
     "output_type": "stream",
     "text": [
      "SimpleCNN(\n",
      "  (conv1): Conv2d(3, 6, kernel_size=(5, 5), stride=(1, 1))\n",
      "  (pool): MaxPool2d(kernel_size=2, stride=2, padding=0, dilation=1, ceil_mode=False)\n",
      "  (conv2): Conv2d(6, 16, kernel_size=(5, 5), stride=(1, 1))\n",
      "  (fc1): Linear(in_features=59536, out_features=120, bias=True)\n",
      "  (fc2): Linear(in_features=120, out_features=84, bias=True)\n",
      "  (fc3): Linear(in_features=84, out_features=2, bias=True)\n",
      ")\n",
      "Starting training...\n",
      "cfg= {'lr': 0.001, 'epochs': 10, 'batch_size': 8, 'data_root': 'data/raw', 'name': 'model1', 'data_augm': False} type= <class 'wandb.sdk.wandb_config.Config'>\n",
      "cfg.epochs= 10\n"
     ]
    },
    {
     "name": "stderr",
     "output_type": "stream",
     "text": [
      "100%|██████████| 10/10 [01:39<00:00,  9.98s/it]\n"
     ]
    },
    {
     "name": "stdout",
     "output_type": "stream",
     "text": [
      "Training finished!\n",
      "Saving a model!\n",
      "Starting testing ...\n"
     ]
    },
    {
     "name": "stderr",
     "output_type": "stream",
     "text": [
      "100%|██████████| 4/4 [00:01<00:00,  2.61it/s]\n"
     ]
    },
    {
     "data": {
      "text/html": [
       "Waiting for W&B process to finish... <strong style=\"color:green\">(success).</strong>"
      ],
      "text/plain": [
       "<IPython.core.display.HTML object>"
      ]
     },
     "metadata": {},
     "output_type": "display_data"
    },
    {
     "data": {
      "application/vnd.jupyter.widget-view+json": {
       "model_id": "eb92591e888d411aa18d979d8b938542",
       "version_major": 2,
       "version_minor": 0
      },
      "text/plain": [
       "VBox(children=(Label(value='0.001 MB of 0.001 MB uploaded (0.000 MB deduped)\\r'), FloatProgress(value=1.0, max…"
      ]
     },
     "metadata": {},
     "output_type": "display_data"
    },
    {
     "data": {
      "text/html": [
       "<style>\n",
       "    table.wandb td:nth-child(1) { padding: 0 10px; text-align: left ; width: auto;} td:nth-child(2) {text-align: left ; width: 100%}\n",
       "    .wandb-row { display: flex; flex-direction: row; flex-wrap: wrap; justify-content: flex-start; width: 100% }\n",
       "    .wandb-col { display: flex; flex-direction: column; flex-basis: 100%; flex: 1; padding: 10px; }\n",
       "    </style>\n",
       "<div class=\"wandb-row\"><div class=\"wandb-col\"><h3>Run history:</h3><br/><table class=\"wandb\"><tr><td>AUROC</td><td>▁</td></tr><tr><td>Accuracy</td><td>▁</td></tr><tr><td>F1Score</td><td>▁</td></tr><tr><td>epoch</td><td>▁▁▁▁▂▂▂▂▃▃▃▃▃▃▃▃▄▄▄▄▅▅▅▅▆▆▆▆▆▆▆▆▇▇▇▇████</td></tr><tr><td>train_loss</td><td>▇▇▇▇▇▇▇▇▇▆▆▆▅▆▅█▆▆▅▇▆▅▅▅▅▃▆▆▃▃▂▇▂▃▄▁▅▁▃▂</td></tr><tr><td>val_loss</td><td>▄▄▃▃▅▄▇▂▁█</td></tr></table><br/></div><div class=\"wandb-col\"><h3>Run summary:</h3><br/><table class=\"wandb\"><tr><td>AUROC</td><td>0.52747</td></tr><tr><td>Accuracy</td><td>0.51852</td></tr><tr><td>F1Score</td><td>0.38095</td></tr><tr><td>epoch</td><td>9</td></tr><tr><td>train_loss</td><td>0.25472</td></tr><tr><td>val_loss</td><td>1.07302</td></tr></table><br/></div></div>"
      ],
      "text/plain": [
       "<IPython.core.display.HTML object>"
      ]
     },
     "metadata": {},
     "output_type": "display_data"
    },
    {
     "data": {
      "text/html": [
       " View run <strong style=\"color:#cdcd00\">scintillating-lantern-74</strong> at: <a href='https://wandb.ai/alexaatm/xray-classifier/runs/3m7zov1x' target=\"_blank\">https://wandb.ai/alexaatm/xray-classifier/runs/3m7zov1x</a><br/>Synced 5 W&B file(s), 0 media file(s), 0 artifact file(s) and 0 other file(s)"
      ],
      "text/plain": [
       "<IPython.core.display.HTML object>"
      ]
     },
     "metadata": {},
     "output_type": "display_data"
    },
    {
     "data": {
      "text/html": [
       "Find logs at: <code>.\\wandb\\run-20240223_111437-3m7zov1x\\logs</code>"
      ],
      "text/plain": [
       "<IPython.core.display.HTML object>"
      ]
     },
     "metadata": {},
     "output_type": "display_data"
    }
   ],
   "source": [
    "model, stats = model_pipeline(hyperparam)"
   ]
  },
  {
   "cell_type": "code",
   "execution_count": null,
   "metadata": {},
   "outputs": [],
   "source": []
  }
 ],
 "metadata": {
  "kernelspec": {
   "display_name": "Python 3",
   "language": "python",
   "name": "python3"
  },
  "language_info": {
   "codemirror_mode": {
    "name": "ipython",
    "version": 3
   },
   "file_extension": ".py",
   "mimetype": "text/x-python",
   "name": "python",
   "nbconvert_exporter": "python",
   "pygments_lexer": "ipython3",
   "version": "3.7.7"
  }
 },
 "nbformat": 4,
 "nbformat_minor": 2
}
